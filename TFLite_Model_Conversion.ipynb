{
  "nbformat": 4,
  "nbformat_minor": 0,
  "metadata": {
    "colab": {
      "provenance": []
    },
    "kernelspec": {
      "name": "python3",
      "display_name": "Python 3"
    },
    "language_info": {
      "name": "python"
    }
  },
  "cells": [
    {
      "cell_type": "markdown",
      "source": [
        "# *Required Library*"
      ],
      "metadata": {
        "id": "bkVE2_ydm842"
      }
    },
    {
      "cell_type": "code",
      "execution_count": 2,
      "metadata": {
        "id": "qayd2xr2kW_v"
      },
      "outputs": [],
      "source": [
        "import tensorflow as tf\n",
        "from keras.models import load_model\n",
        "import joblib"
      ]
    },
    {
      "cell_type": "markdown",
      "source": [
        "# *Loading The Model*"
      ],
      "metadata": {
        "id": "zvlTYhBfma3M"
      }
    },
    {
      "cell_type": "code",
      "source": [
        "model = load_model('/content/sentiment model.h5')"
      ],
      "metadata": {
        "id": "SwkCWQ2Pkjd6"
      },
      "execution_count": 4,
      "outputs": []
    },
    {
      "cell_type": "markdown",
      "source": [
        "# *Tensorflow Lite Conversion*"
      ],
      "metadata": {
        "id": "6_SVUNTCnCLK"
      }
    },
    {
      "cell_type": "code",
      "source": [
        "converter=tf.lite.TFLiteConverter.from_keras_model(model)\n",
        "\n",
        "converter.target_spec.supported_ops = [\n",
        "    tf.lite.OpsSet.TFLITE_BUILTINS,  # Enable TensorFlow Lite operations\n",
        "    tf.lite.OpsSet.SELECT_TF_OPS     # Enable select TensorFlow operations\n",
        "]\n",
        "\n",
        "converter._experimental_lower_tensor_list_ops = False\n",
        "\n",
        "tflite_model=converter.convert()\n",
        "\n",
        "with open('sentiment_model.tflite', 'wb') as f:\n",
        "  f.write(tflite_model)"
      ],
      "metadata": {
        "id": "xy0ozm_XkltJ"
      },
      "execution_count": 6,
      "outputs": []
    }
  ]
}